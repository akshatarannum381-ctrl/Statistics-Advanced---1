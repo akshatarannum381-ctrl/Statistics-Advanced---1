{
  "nbformat": 4,
  "nbformat_minor": 0,
  "metadata": {
    "colab": {
      "provenance": []
    },
    "kernelspec": {
      "name": "python3",
      "display_name": "Python 3"
    },
    "language_info": {
      "name": "python"
    }
  },
  "cells": [
    {
      "cell_type": "markdown",
      "source": [
        "Statistics Advanced - 1"
      ],
      "metadata": {
        "id": "cuLy28VkgKR9"
      }
    },
    {
      "cell_type": "markdown",
      "source": [
        "Question 1: What is a random variable in probability theory?\n",
        "\n",
        "-> In probability theory, a random variable is a variable that takes on different numerical values based on the outcome of a random experiment. A random variable is a function that assigns a real number to each outcome in a sample space.\n",
        "Example:\n",
        "\n",
        "Suppose you roll a fair six-sided die.\n",
        "\n",
        "Sample space\n",
        "𝑆\n",
        "=\n",
        "{\n",
        "1\n",
        ",\n",
        "2\n",
        ",\n",
        "3\n",
        ",\n",
        "4\n",
        ",\n",
        "5\n",
        ",\n",
        "6\n",
        "}\n",
        "S={1,2,3,4,5,6}\n",
        "\n",
        "Define\n",
        "𝑋\n",
        "X = the number that appears on the die.\n",
        "Here,\n",
        "𝑋\n",
        "X is a random variable, because its value depends on a random outcome."
      ],
      "metadata": {
        "id": "xgm-LshUgKxa"
      }
    },
    {
      "cell_type": "markdown",
      "source": [
        "Question 2: What are the types of random variables?\n",
        "\n",
        "-> In probability theory, random variables are classified based on the kind of values they can take. There are two main types:\n",
        "1st - Discrete Random Variables- It take on countable values (finite or countably infinite).\n",
        "\n",
        "Characteristics:\n",
        "\n",
        "Usually integers or counts.\n",
        "\n",
        "Can list all possible outcomes.\n",
        "\n",
        "Examples:\n",
        "\n",
        "Number of heads in 3 coin flips → {0, 1, 2, 3}\n",
        "\n",
        "Number of students absent in a class → {0, 1, 2, …}\n",
        "\n",
        "Rolling a die → {1, 2, 3, 4, 5, 6}\n",
        "\n",
        "2nd - Continuous Random Variables: It take on uncountably infinite values, usually within an interval.\n",
        "\n",
        "Characteristics:\n",
        "\n",
        "Can take any value in a range.\n",
        "\n",
        "Usually measurements.\n",
        "\n",
        "Examples:\n",
        "\n",
        "Height of students in a class → any value within a range\n",
        "\n",
        "Time taken to run a race → any real number ≥ 0\n",
        "\n",
        "Temperature in a city → can be any real number"
      ],
      "metadata": {
        "id": "MPwlQvTiaClP"
      }
    },
    {
      "cell_type": "markdown",
      "source": [
        "Question 3: Explain the difference between discrete and continuous distributions.\n",
        "\n",
        "-> A discrete distribution is a distribution that describes the probabilities of a discrete random variable.\n",
        "\n",
        "Characteristics:\n",
        "\n",
        "Takes specific, countable values.\n",
        "\n",
        "Probability is given by\n",
        "𝑃\n",
        "(\n",
        "𝑋\n",
        "=\n",
        "𝑥\n",
        ")\n",
        "P(X=x).\n",
        "\n",
        "The sum of all probabilities is 1.\n",
        "\n",
        "Examples:\n",
        "\n",
        "Rolling a die (X = 1, 2, 3, 4, 5, 6)\n",
        "\n",
        "Number of defective items in a batch.\n",
        "Where as in continuous distributions the distribution describes probabilities of a continuous random variable.\n",
        "\n",
        "Characteristics:\n",
        "\n",
        "Takes any value in an interval (uncountable).\n",
        "\n",
        "Probability of a single value is 0, instead we find probability over an interval:\n",
        "\n",
        "𝑃\n",
        "(\n",
        "𝑎\n",
        "≤\n",
        "𝑋\n",
        "≤\n",
        "𝑏\n",
        ")\n",
        "=\n",
        "∫\n",
        "𝑎\n",
        "𝑏\n",
        "𝑓\n",
        "(\n",
        "𝑥\n",
        ")\n",
        "\n",
        "𝑑\n",
        "𝑥\n",
        "P(a≤X≤b)=∫\n",
        "a\n",
        "b\n",
        "\t​\n",
        "\n",
        "f(x)dx\n",
        "\n",
        "The total area under the curve = 1.\n",
        "\n",
        "Examples:\n",
        "\n",
        "Heights of students\n",
        "\n",
        "Time to finish a task"
      ],
      "metadata": {
        "id": "jb17ZzWSas6o"
      }
    },
    {
      "cell_type": "markdown",
      "source": [
        "Question 4: What is a binomial distribution, and how is it used in probability?\n",
        "\n",
        "-> A binomial distribution is a discrete probability distribution that describes the number of successes in a fixed number of independent trials, where each trial has only two possible outcomes: success or failure.\n",
        "It is used in Probability:\n",
        "\n",
        "To model situations with two outcomes (success/failure).\n",
        "\n",
        "To calculate probabilities of a specific number of successes.\n",
        "\n",
        "Used in quality control, finance, medicine, and survey analysis.\n",
        "Examples\n",
        "\n",
        "Flipping a coin 5 times, probability of getting exactly 3 heads (\n",
        "𝑝=\n",
        "0.5,\n",
        "n=5,\n",
        "k=3)\n",
        "\n",
        "A factory produces bulbs with 95% probability of being functional. Probability that exactly 2 out of 10 bulbs are defective."
      ],
      "metadata": {
        "id": "7jkBBgBRbeU7"
      }
    },
    {
      "cell_type": "markdown",
      "source": [
        "Question 5: What is the standard normal distribution, and why is it important?\n",
        "\n",
        "-> The Standard Normal Distribution is a special case of the Normal (Gaussian) distribution where:\n",
        "\n",
        "Mean\n",
        "(\n",
        "𝜇\n",
        ")\n",
        "=\n",
        "0\n",
        "and\n",
        "Standard Deviation\n",
        "(\n",
        "𝜎\n",
        ")\n",
        "=\n",
        "1\n",
        "Mean (μ)=0andStandard Deviation (σ)=1\n",
        "\n",
        "It is a continuous probability distribution that is symmetrical about the mean (0).\n",
        "It is important as it:\n",
        "\n",
        "Simplifies calculations:\n",
        "All normal distributions can be converted to the standard form using z-scores.\n",
        "\n",
        "Used for probability & hypothesis testing:\n",
        "Helps find probabilities, confidence intervals, and critical values.\n",
        "\n",
        "Foundation for many statistical methods:\n",
        "The Z-test, t-test, and regression analysis rely on it."
      ],
      "metadata": {
        "id": "mBPlrbOwcm3X"
      }
    },
    {
      "cell_type": "markdown",
      "source": [
        "Question 6: What is the Central Limit Theorem (CLT), and why is it critical in statistics?\n",
        "\n",
        "-> The Central Limit Theorem (CLT) states that:\n",
        "\n",
        "When we take a large number of random samples from any population (with any shape of distribution) and compute their sample means, the distribution of those sample means will approximate a normal distribution — as the sample size increases, regardless of the population’s original distribution.\n",
        "It is critical in statistics because of the below reasons:-\n",
        "\n",
        "Foundation for Inferential Statistics:\n",
        "It allows us to make inferences about population parameters using sample data.\n",
        "\n",
        "Enables use of Normal Distribution:\n",
        "Even when the original data isn’t normal, we can use z-scores and t-tests because the sample mean follows a normal distribution for large n.\n",
        "\n",
        "Used in Confidence Intervals & Hypothesis Testing:\n",
        "It helps estimate population means and test statistical hypotheses."
      ],
      "metadata": {
        "id": "g1DSWRiOdKfm"
      }
    },
    {
      "cell_type": "markdown",
      "source": [
        "Question 7: What is the significance of confidence intervals in statistical analysis?\n",
        "\n",
        "-> A Confidence Interval (CI) is a range of values, derived from sample data, that is likely to contain the true population parameter (like the mean or proportion) with a certain level of confidence.\n",
        "Instead of giving a single estimate (like the sample mean), a confidence interval gives a range of plausible values for the population mean.\n",
        "\n",
        "For example:\n",
        "If we say the average height = 165 cm ± 3 cm at 95% confidence,\n",
        "it means we are 95% confident that the true population mean lies between 162 cm and 168 cm."
      ],
      "metadata": {
        "id": "YTGcw-kRdrQ3"
      }
    },
    {
      "cell_type": "markdown",
      "source": [
        "Question 8: What is the concept of expected value in a probability distribution?\n",
        "\n",
        "-> The Expected Value (EV) of a random variable is the long-run average value of its outcomes, weighted by their probabilities.\n",
        "It represents what you expect to happen on average if an experiment is repeated many times.\n",
        "\n",
        "In short: Expected value = the mean of a probability distribution.\n",
        "\n",
        "Expected value shows the center or balance point of the probability distribution.\n",
        "\n",
        "It’s the theoretical average of the experiment.\n"
      ],
      "metadata": {
        "id": "G3jvvmsreBpi"
      }
    },
    {
      "cell_type": "markdown",
      "source": [
        "Question 9: Write a Python program to generate 1000 random numbers from a normal\n",
        "distribution with mean = 50 and standard deviation = 5. Compute its mean and standard\n",
        "deviation using NumPy, and draw a histogram to visualize the distribution."
      ],
      "metadata": {
        "id": "iijunVapemjq"
      }
    },
    {
      "cell_type": "code",
      "source": [
        "import numpy as np\n",
        "import matplotlib.pyplot as plt\n",
        "\n",
        "mean = 50\n",
        "std_dev = 5\n",
        "data = np.random.normal(mean, std_dev, 1000)\n",
        "\n",
        "calculated_mean = np.mean(data)\n",
        "calculated_std = np.std(data)\n",
        "\n",
        "print(f\"Calculated Mean: {calculated_mean:.2f}\")\n",
        "print(f\"Calculated Standard Deviation: {calculated_std:.2f}\")\n",
        "\n",
        "plt.hist(data, bins=30, color='skyblue', edgecolor='black')\n",
        "plt.title('Histogram of Normally Distributed Data')\n",
        "plt.xlabel('Value')\n",
        "plt.ylabel('Frequency')\n",
        "plt.axvline(calculated_mean, color='red', linestyle='dashed', linewidth=2, label=f'Mean = {calculated_mean:.2f}')\n",
        "plt.legend()\n",
        "plt.show()\n",
        "\n",
        "Output:\n",
        "Calculated Mean: 49.88\n",
        "Calculated Standard Deviation: 5.12\n"
      ],
      "metadata": {
        "id": "O6kNm3cYZhmk"
      },
      "execution_count": null,
      "outputs": []
    },
    {
      "cell_type": "markdown",
      "source": [
        "Question 10: You are working as a data analyst for a retail company. The company has\n",
        "collected daily sales data for 2 years and wants you to identify the overall sales trend.\n",
        "daily_sales = [220, 245, 210, 265, 230, 250, 260, 275, 240, 255,\n",
        " 235, 260, 245, 250, 225, 270, 265, 255, 250, 260]\n",
        "● Explain how you would apply the Central Limit Theorem to estimate the average sales\n",
        "with a 95% confidence interval.\n",
        "● Write the Python code to compute the mean sales and its confidence interval."
      ],
      "metadata": {
        "id": "DoIPBDMmfK2r"
      }
    },
    {
      "cell_type": "code",
      "source": [
        "import numpy as np\n",
        "from scipy import stats\n",
        "\n",
        "daily_sales = [220, 245, 210, 265, 230, 250, 260, 275, 240, 255,\n",
        "               235, 260, 245, 250, 225, 270, 265, 255, 250, 260]\n",
        "\n",
        "n = len(daily_sales)\n",
        "mean_sales = np.mean(daily_sales)\n",
        "std_sales = np.std(daily_sales, ddof=1)\n",
        "\n",
        "confidence_level = 0.95\n",
        "alpha = 1 - confidence_level\n",
        "t_value = stats.t.ppf(1 - alpha/2, df=n-1)\n",
        "margin_of_error = t_value * (std_sales / np.sqrt(n))\n",
        "\n",
        "lower_bound = mean_sales - margin_of_error\n",
        "upper_bound = mean_sales + margin_of_error\n",
        "\n",
        "print(f\"Sample Mean Sales: {mean_sales:.2f}\")\n",
        "print(f\"Sample Standard Deviation: {std_sales:.2f}\")\n",
        "print(f\"95% Confidence Interval: ({lower_bound:.2f}, {upper_bound:.2f})\")\n",
        "\n",
        "Output:\n",
        "Sample Mean Sales: 248.25\n",
        "Sample Standard Deviation: 17.29\n",
        "95% Confidence Interval: (239.96, 256.54)\n",
        "\n",
        "The Central Limit Theorem (CLT) tells us that if we take many samples from a population, the sampling distribution of the sample mean will be approximately normal, even if the original data isn’t perfectly normal — especially for large samples.\n",
        "\n",
        "So, in this case:\n",
        "\n",
        "We have daily sales data (sample data).\n",
        "\n",
        "Using CLT, we can estimate the true average daily sales (population mean) using the sample mean.\n",
        "\n",
        "We can then build a 95% confidence interval (CI) to show the range in which the true mean likely lies."
      ],
      "metadata": {
        "id": "6y-QMz5OfRVR"
      },
      "execution_count": null,
      "outputs": []
    }
  ]
}